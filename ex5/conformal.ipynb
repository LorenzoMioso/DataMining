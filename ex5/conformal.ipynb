{
 "cells": [
  {
   "cell_type": "code",
   "execution_count": 1,
   "metadata": {},
   "outputs": [],
   "source": [
    "\n",
    "import sys\n",
    "import pandas as pd\n",
    "\n",
    "\n",
    "sys.path.append(\"..\")\n",
    "from sklearn.model_selection import train_test_split\n",
    "\n",
    "import numpy as np\n",
    "from nonconformist.base import ClassifierAdapter\n",
    "from nonconformist.cp import IcpClassifier\n",
    "from nonconformist.nc import ClassifierNc, NcFactory\n",
    "\n",
    "from ex4.ada_boost import BoostedSeqTree\n",
    "from ex5.util import parse_dataset\n",
    "\n",
    "DATASET_PATH = \"../datasets/pioneer.txt\"  ## 160 lines\n",
    "# DATASET_PATH = \"../datasets/auslan2.txt\"  ## 200 lines\n",
    "#DATASET_PATH = \"../datasets/context.txt\"  ## 240 lines\n",
    "# DATASET_PATH = \"../datasets/aslbu.txt\"  #### 424 lines\n",
    "# DATASET_PATH = \"../datasets/skating.txt\"  ## 530 lines\n",
    "#DATASET_PATH = \"../datasets/reuters.txt\"  # 1010 lines\n",
    "# DATASET_PATH = \"../datasets/webkb.txt\"  ### 3667 lines\n",
    "# DATASET_PATH = \"../datasets/news.txt\"  #### 4976 lines\n",
    "# DATASET_PATH = \"../datasets/unix.txt\"  #### 5472 lines\n",
    "ITERATIONS = 10\n",
    "\n",
    "SIGNIFICANCE = 0.05"
   ]
  },
  {
   "cell_type": "code",
   "execution_count": 2,
   "metadata": {},
   "outputs": [],
   "source": [
    "\n",
    "class MyClassifierAdapter(ClassifierAdapter):\n",
    "    def __init__(self, model: BoostedSeqTree):\n",
    "        super().__init__(model, None)\n",
    "\n",
    "    def fit(self, x, y):\n",
    "        self.model.fit(x, y, ITERATIONS)\n",
    "\n",
    "    def predict(self, x):\n",
    "        return np.array(\n",
    "            [\n",
    "                np.array(\n",
    "                    [self.model.predict_prob(x, 1), self.model.predict_prob(x, -1)]\n",
    "                )\n",
    "                for x in x\n",
    "            ]\n",
    "        )\n"
   ]
  },
  {
   "cell_type": "code",
   "execution_count": 3,
   "metadata": {},
   "outputs": [],
   "source": [
    "def train_test_split(dataset, ratio = 0.8):\n",
    "    # consider each class separately\n",
    "    classes = dataset[:, 1].unique()\n",
    "    X_train = []\n",
    "    X_test = []\n",
    "    Y_train = []\n",
    "    Y_test = []\n",
    "    for c in classes:\n",
    "        data = dataset[dataset[:, 1] == c]\n",
    "        x_train, x_test = np.split(data, [int(ratio * len(data))])\n",
    "        X_train.append(x_train)\n",
    "        X_test.append(x_test)\n",
    "        Y_train.append(np.full(len(x_train), c))\n",
    "        Y_test.append(np.full(len(x_test), c))\n",
    "    \n",
    "    X_train = np.concatenate(X_train)\n",
    "    X_test = np.concatenate(X_test)\n",
    "    Y_train = np.concatenate(Y_train)\n",
    "    Y_test = np.concatenate(Y_test)\n",
    "    return X_train, X_test, Y_train, Y_test\n",
    "\n"
   ]
  },
  {
   "cell_type": "code",
   "execution_count": 4,
   "metadata": {},
   "outputs": [],
   "source": [
    "def fit(X_train, Y_train):\n",
    "    PHI = {}\n",
    "    bsts = {}\n",
    "    classes = X_train[\"y\"].unique()\n",
    "\n",
    "    for c in classes:\n",
    "        print(\"class:\", c)\n",
    "        df_train = X_train.copy()\n",
    "        df_train[\"y\"] = X_train[\"y\"].apply(lambda x: 1 if x == c else 0)\n",
    "\n",
    "        # split the dataset into train and calibration sets\n",
    "        df_t, df_c = train_test_split(df_train)\n",
    "\n",
    "        # make sure that in the calibration set there are both positive and negative examples\n",
    "        if df_c[\"y\"].nunique() < 2 or df_t[\"y\"].nunique() < 2:\n",
    "            raise ValueError(\"Failed to split correctly\")\n",
    "\n",
    "        X = np.array([np.array([x for x in s]) for s in df_t[\"s\"]])\n",
    "        Y = np.array(df_t[\"y\"])\n",
    "\n",
    "        # train the model\n",
    "        print(f\"Training model for class {c}\")\n",
    "        bst = BoostedSeqTree()\n",
    "        model = MyClassifierAdapter(bst)\n",
    "        nc = ClassifierNc(model)\n",
    "        icp = IcpClassifier(nc)\n",
    "\n",
    "        X_c = np.array([np.array([x for x in s]) for s in df_c[\"s\"]])\n",
    "        Y_c = np.array(df_c[\"y\"])\n",
    "\n",
    "        print(\"Fitting Classifier\")\n",
    "        icp.fit(X, Y)\n",
    "\n",
    "        print(f\"Calibrating model for class {c}\")\n",
    "        icp.calibrate(X_c, Y_c)\n",
    "        bsts[c] = bst\n",
    "        PHI[c] = icp\n",
    "\n",
    "    return PHI, bsts"
   ]
  },
  {
   "cell_type": "code",
   "execution_count": 5,
   "metadata": {},
   "outputs": [
    {
     "name": "stdout",
     "output_type": "stream",
     "text": [
      "Classes: ['1' '2' '3' '4' '5']\n",
      "class: 1\n",
      "Training model for class 1\n",
      "Fitting Classifier\n",
      "Calibrating model for class 1\n",
      "class: 2\n",
      "Training model for class 2\n",
      "Fitting Classifier\n",
      "Calibrating model for class 2\n",
      "class: 3\n",
      "Training model for class 3\n",
      "Fitting Classifier\n",
      "Calibrating model for class 3\n",
      "class: 4\n",
      "Training model for class 4\n",
      "Fitting Classifier\n",
      "Calibrating model for class 4\n",
      "class: 5\n",
      "Training model for class 5\n",
      "Fitting Classifier\n",
      "Calibrating model for class 5\n"
     ]
    }
   ],
   "source": [
    "dataset = parse_dataset(DATASET_PATH)\n",
    "classes = dataset[:, 1].unique()\n",
    "print(f\"Classes: {classes}\")\n",
    "\n",
    "# divide training and test sets\n",
    "X_test, X_train, Y_test, Y_train = train_test_split(dataset)\n",
    "\n",
    "PHI, bsts = fit(X_train, Y_train)"
   ]
  },
  {
   "cell_type": "code",
   "execution_count": 6,
   "metadata": {},
   "outputs": [
    {
     "ename": "AttributeError",
     "evalue": "Can't pickle local object 'BaseIcp.__init__.<locals>.<lambda>'",
     "output_type": "error",
     "traceback": [
      "\u001b[0;31m---------------------------------------------------------------------------\u001b[0m",
      "\u001b[0;31mAttributeError\u001b[0m                            Traceback (most recent call last)",
      "Cell \u001b[0;32mIn[6], line 5\u001b[0m\n\u001b[1;32m      2\u001b[0m \u001b[38;5;28;01mimport\u001b[39;00m \u001b[38;5;21;01mpickle\u001b[39;00m\n\u001b[1;32m      4\u001b[0m \u001b[38;5;28;01mwith\u001b[39;00m \u001b[38;5;28mopen\u001b[39m(\u001b[38;5;124mf\u001b[39m\u001b[38;5;124m\"\u001b[39m\u001b[38;5;124mmodels_\u001b[39m\u001b[38;5;132;01m{\u001b[39;00mDATASET_PATH\u001b[38;5;241m.\u001b[39msplit(\u001b[38;5;124m'\u001b[39m\u001b[38;5;124m/\u001b[39m\u001b[38;5;124m'\u001b[39m)[\u001b[38;5;241m-\u001b[39m\u001b[38;5;241m1\u001b[39m]\u001b[38;5;132;01m}\u001b[39;00m\u001b[38;5;124m.pkl\u001b[39m\u001b[38;5;124m\"\u001b[39m, \u001b[38;5;124m\"\u001b[39m\u001b[38;5;124mwb\u001b[39m\u001b[38;5;124m\"\u001b[39m) \u001b[38;5;28;01mas\u001b[39;00m f:\n\u001b[0;32m----> 5\u001b[0m     \u001b[43mpickle\u001b[49m\u001b[38;5;241;43m.\u001b[39;49m\u001b[43mdump\u001b[49m\u001b[43m(\u001b[49m\u001b[43m(\u001b[49m\u001b[43mPHI\u001b[49m\u001b[43m,\u001b[49m\u001b[43m \u001b[49m\u001b[43mbsts\u001b[49m\u001b[43m)\u001b[49m\u001b[43m,\u001b[49m\u001b[43m \u001b[49m\u001b[43mf\u001b[49m\u001b[43m)\u001b[49m\n\u001b[1;32m      7\u001b[0m f\u001b[38;5;241m.\u001b[39mclose()\n",
      "\u001b[0;31mAttributeError\u001b[0m: Can't pickle local object 'BaseIcp.__init__.<locals>.<lambda>'"
     ]
    }
   ],
   "source": [
    "# save to pickle the models\n",
    "import pickle\n",
    "\n",
    "with open(f\"models_{DATASET_PATH.split('/')[-1]}.pkl\", \"wb\") as f:\n",
    "    pickle.dump((PHI, bsts), f)\n",
    "\n",
    "f.close()"
   ]
  },
  {
   "cell_type": "code",
   "execution_count": null,
   "metadata": {},
   "outputs": [],
   "source": [
    "def predict(x):\n",
    "    predictions = []\n",
    "    for c, phi in PHI.items():\n",
    "        print(f\"Predicting for class {c}\")\n",
    "        p = phi.predict(x, significance=SIGNIFICANCE)\n",
    "        predictions.append(p)\n",
    "        print(f\"Conformal prediction: {p}\")\n",
    "\n",
    "        print(bsts[c])\n",
    "        cp = bsts[c].predict(x[0])\n",
    "        print(f\"Class prediction: {cp}\")\n",
    "\n",
    "        ppp = bsts[c].predict_prob(x[0], 1)\n",
    "        print(f\"Probability prediction positive: {ppp}\")\n",
    "\n",
    "        ppn = bsts[c].predict_prob(x[0], -1)\n",
    "        print(f\"Probability prediction negative: {ppn}\")\n",
    "\n",
    "    return np.array(predictions)"
   ]
  },
  {
   "cell_type": "code",
   "execution_count": null,
   "metadata": {},
   "outputs": [],
   "source": [
    "test_data = np.array([np.array([x for x in s]) for s in X_test])\n",
    "print(test_data.shape)\n",
    "\n",
    "for idx, i in enumerate(test_data):\n",
    "    print(\"###########################################\")\n",
    "    print(\"Predicting\", i)\n",
    "    predict(np.array([i]))\n",
    "    print(\"real:\", Y_test[idx])\n",
    "    print(\"###########################################\")"
   ]
  }
 ],
 "metadata": {
  "kernelspec": {
   "display_name": ".env",
   "language": "python",
   "name": "python3"
  },
  "language_info": {
   "codemirror_mode": {
    "name": "ipython",
    "version": 3
   },
   "file_extension": ".py",
   "mimetype": "text/x-python",
   "name": "python",
   "nbconvert_exporter": "python",
   "pygments_lexer": "ipython3",
   "version": "3.12.3"
  }
 },
 "nbformat": 4,
 "nbformat_minor": 2
}
