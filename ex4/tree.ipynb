{
 "cells": [
  {
   "cell_type": "code",
   "execution_count": 15,
   "metadata": {},
   "outputs": [],
   "source": [
    "import sys\n",
    "\n",
    "import numpy as np\n",
    "\n",
    "sys.path.append(\"..\")\n",
    "from ex4.util import count_labels, parse_dataset\n",
    "from ex4.tree import Best_tree,print_tree,predict,SeqTree\n",
    "\n",
    "# DATASET_PATH = \"../datasets/activity.txt\"  # 35 lines\n",
    "DATASET_PATH = \"../datasets/question.txt\"  # 1730 lines\n",
    "# DATASET_PATH = \"../datasets/epitope.txt\"  # 2392 lines\n",
    "# DATASET_PATH = \"../datasets/gene.txt\"  # 2942 lines\n",
    "# DATASET_PATH = \"../datasets/robot.txt\" # 4302 lines"
   ]
  },
  {
   "cell_type": "code",
   "execution_count": 16,
   "metadata": {},
   "outputs": [],
   "source": [
    "\n",
    "df = parse_dataset(DATASET_PATH, max_items=100, gen_tuple=count_labels)\n",
    "train = df.sample(frac=0.8)\n",
    "test = df.drop(train.index)\n",
    "\n",
    "W = np.ones(len(train)) / len(train)\n",
    "VT = np.zeros(len(train))\n",
    "X = train[\"s\"].tolist()\n",
    "Y = train[\"y\"].tolist()"
   ]
  },
  {
   "cell_type": "code",
   "execution_count": 17,
   "metadata": {},
   "outputs": [],
   "source": [
    "l = \"7\"\n",
    "d = 18\n",
    "# tree = TreePair(W, VT, X, Y, l, d)\n",
    "# print(\"Tree pair\")\n",
    "# print_tree(tree)"
   ]
  },
  {
   "cell_type": "code",
   "execution_count": 18,
   "metadata": {},
   "outputs": [
    {
     "name": "stdout",
     "output_type": "stream",
     "text": [
      "Best tree\n",
      "EventNode('6', 0.0)\n",
      "  -T: ValueNode(1.0)\n",
      "    -T: Leaf(-1)\n",
      "    -F: Leaf(1)\n",
      "  -F: Leaf(1)\n"
     ]
    }
   ],
   "source": [
    "tree = SeqTree()\n",
    "tree.fit(W, VT, X, Y)\n",
    "print(\"Best tree\")\n",
    "tree.print()"
   ]
  },
  {
   "cell_type": "code",
   "execution_count": 19,
   "metadata": {},
   "outputs": [
    {
     "name": "stdout",
     "output_type": "stream",
     "text": [
      "Predicted -1, expected -1\n",
      "Predicted -1, expected -1\n",
      "Predicted 1, expected -1\n",
      "Predicted -1, expected -1\n",
      "Predicted -1, expected -1\n",
      "Predicted 1, expected -1\n",
      "Predicted 1, expected -1\n",
      "Predicted 1, expected -1\n",
      "Predicted -1, expected -1\n",
      "Predicted 1, expected -1\n",
      "Predicted 1, expected -1\n",
      "Predicted -1, expected -1\n",
      "Predicted -1, expected -1\n",
      "Predicted -1, expected -1\n",
      "Predicted -1, expected -1\n",
      "Predicted -1, expected -1\n",
      "Predicted 1, expected -1\n",
      "Predicted 1, expected -1\n",
      "Predicted 1, expected -1\n",
      "Predicted -1, expected -1\n",
      "Predicted 1, expected 1\n",
      "Predicted 1, expected 1\n",
      "Predicted 1, expected 1\n",
      "Predicted 1, expected 1\n",
      "Predicted 1, expected 1\n",
      "Predicted 1, expected 1\n",
      "Predicted 1, expected 1\n",
      "Predicted 1, expected 1\n",
      "Predicted 1, expected 1\n",
      "Predicted 1, expected 1\n",
      "Predicted 1, expected 1\n",
      "Predicted 1, expected 1\n",
      "Predicted 1, expected 1\n",
      "Predicted 1, expected 1\n",
      "Predicted 1, expected 1\n",
      "Predicted 1, expected 1\n",
      "Predicted 1, expected 1\n",
      "Predicted 1, expected 1\n",
      "Predicted 1, expected 1\n",
      "Predicted 1, expected 1\n",
      "Accuracy: 0.775\n"
     ]
    }
   ],
   "source": [
    "# test the tree\n",
    "correct = 0\n",
    "for i, row in test.iterrows():\n",
    "    x = row[\"s\"]\n",
    "    y = row[\"y\"]\n",
    "    p = tree.predict((0, x))\n",
    "    print(f\"Predicted {p}, expected {y}\")\n",
    "    if p == y:\n",
    "        correct += 1\n",
    "print(f\"Accuracy: {correct / len(test)}\")"
   ]
  }
 ],
 "metadata": {
  "kernelspec": {
   "display_name": ".env",
   "language": "python",
   "name": "python3"
  },
  "language_info": {
   "codemirror_mode": {
    "name": "ipython",
    "version": 3
   },
   "file_extension": ".py",
   "mimetype": "text/x-python",
   "name": "python",
   "nbconvert_exporter": "python",
   "pygments_lexer": "ipython3",
   "version": "3.11.9"
  }
 },
 "nbformat": 4,
 "nbformat_minor": 2
}
