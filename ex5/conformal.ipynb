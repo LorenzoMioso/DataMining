{
 "cells": [
  {
   "cell_type": "code",
   "execution_count": null,
   "metadata": {},
   "outputs": [],
   "source": [
    "import sys\n",
    "\n",
    "sys.path.append(\"..\")\n",
    "from sklearn.model_selection import train_test_split\n",
    "\n",
    "import numpy as np\n",
    "from nonconformist.base import ClassifierAdapter\n",
    "from nonconformist.cp import IcpClassifier\n",
    "from nonconformist.nc import ClassifierNc, NcFactory\n",
    "\n",
    "from ex4.ada_boost import BoostedSeqTree\n",
    "from ex5.util import parse_dataset\n",
    "\n",
    "# DATASET_PATH = \"../datasets/pioneer.txt\"  ## 160 lines\n",
    "# DATASET_PATH = \"../datasets/auslan2.txt\"  ## 200 lines\n",
    "# DATASET_PATH = \"../datasets/context.txt\"  ## 240 lines\n",
    "# DATASET_PATH = \"../datasets/aslbu.txt\"  #### 424 lines\n",
    "# DATASET_PATH = \"../datasets/skating.txt\"  ## 530 lines\n",
    "DATASET_PATH = \"../datasets/reuters.txt\"  # 1010 lines\n",
    "# DATASET_PATH = \"../datasets/webkb.txt\"  ### 3667 lines\n",
    "# DATASET_PATH = \"../datasets/news.txt\"  #### 4976 lines\n",
    "# DATASET_PATH = \"../datasets/unix.txt\"  #### 5472 lines\n",
    "ITERATIONS = 10\n",
    "\n",
    "SIGNIFICANCE = 0.05"
   ]
  },
  {
   "cell_type": "code",
   "execution_count": null,
   "metadata": {},
   "outputs": [],
   "source": [
    "\n",
    "class MyClassifierAdapter(ClassifierAdapter):\n",
    "    def __init__(self, model: BoostedSeqTree):\n",
    "        super().__init__(model, None)\n",
    "\n",
    "    def fit(self, x, y):\n",
    "        self.model.fit(x, y, ITERATIONS)\n",
    "\n",
    "    def predict(self, x):\n",
    "        return np.array(\n",
    "            [\n",
    "                np.array(\n",
    "                    [self.model.predict_prob(x, 1), self.model.predict_prob(x, -1)]\n",
    "                )\n",
    "                for x in x\n",
    "            ]\n",
    "        )\n"
   ]
  },
  {
   "cell_type": "code",
   "execution_count": null,
   "metadata": {},
   "outputs": [],
   "source": [
    "def custom_train_test_split(X,Y, ratio = 0.8):\n",
    "    # consider each class separately\n",
    "    classes = np.unique(Y)\n",
    "    X_train = []\n",
    "    X_test = []\n",
    "    Y_train = []\n",
    "    Y_test = []\n",
    "    for c in classes:\n",
    "        data = X[Y == c]\n",
    "        x_train, x_test = np.split(data, [int(ratio * len(data))])\n",
    "        X_train.append(x_train)\n",
    "        X_test.append(x_test)\n",
    "        Y_train.append(np.full(len(x_train), c))\n",
    "        Y_test.append(np.full(len(x_test), c))\n",
    "    \n",
    "    X_train = np.concatenate(X_train)\n",
    "    X_test = np.concatenate(X_test)\n",
    "    Y_train = np.concatenate(Y_train)\n",
    "    Y_test = np.concatenate(Y_test)\n",
    "    return X_train, X_test, Y_train, Y_test\n"
   ]
  },
  {
   "cell_type": "code",
   "execution_count": null,
   "metadata": {},
   "outputs": [],
   "source": [
    "def fit(X, Y):\n",
    "    PHI = {}\n",
    "    bsts = {}\n",
    "    classes = np.unique(Y)\n",
    "\n",
    "    print(\"Classes:\", classes)\n",
    "\n",
    "    for c in classes:\n",
    "        print(\"class:\", c)\n",
    "        X_cl = np.copy(X)\n",
    "        Y_cl = np.array([1 if y == c else -1 for y in Y])\n",
    "\n",
    "\n",
    "        # split the dataset into train and calibration sets\n",
    "        X_t, X_c, Y_t, Y_c = train_test_split(X_cl, Y_cl, test_size=0.2)\n",
    "\n",
    "        # make sure that in the calibration set there are both positive and negative examples\n",
    "        if len(np.unique(Y_t)) != 2 or len(np.unique(Y_c)) != 2:\n",
    "            raise ValueError(\"Failed to split correctly\")\n",
    "\n",
    "        # train the model\n",
    "        print(f\"Training model for class {c}\")\n",
    "        bst = BoostedSeqTree()\n",
    "        model = MyClassifierAdapter(bst)\n",
    "        nc = ClassifierNc(model)\n",
    "        icp = IcpClassifier(nc)\n",
    "\n",
    "        print(\"Fitting Classifier\")\n",
    "        icp.fit(X_t, Y_t)\n",
    "\n",
    "        print(f\"Calibrating model for class {c}\")\n",
    "        icp.calibrate(X_c, Y_c)\n",
    "        bsts[c] = bst\n",
    "        PHI[c] = icp\n",
    "\n",
    "    return PHI, bsts"
   ]
  },
  {
   "cell_type": "code",
   "execution_count": null,
   "metadata": {},
   "outputs": [],
   "source": [
    "dataset = parse_dataset(DATASET_PATH)\n",
    "\n",
    "# divide training and test sets\n",
    "X_test, X, Y_test, Y = custom_train_test_split(dataset[:, 0], dataset[:, 1])\n",
    "\n",
    "PHI, bsts = fit(X, Y)"
   ]
  },
  {
   "cell_type": "code",
   "execution_count": null,
   "metadata": {},
   "outputs": [],
   "source": [
    "# save to pickle the models\n",
    "import pickle\n",
    "import datetime\n",
    "\n",
    "with open(f\"models_{DATASET_PATH.split('/')[-1]}_{datetime.datetime.now().strftime('%Y-%m-%d_%H-%M-%S')}.pkl\", \"wb\") as f:\n",
    "    pickle.dump((PHI, bsts), f)\n",
    "\n",
    "f.close()"
   ]
  },
  {
   "cell_type": "code",
   "execution_count": null,
   "metadata": {},
   "outputs": [],
   "source": [
    "def predict(x):\n",
    "    predictions = []\n",
    "    for c, phi in PHI.items():\n",
    "        print(f\"Predicting for class {c}\")\n",
    "        p = phi.predict(x, significance=SIGNIFICANCE)\n",
    "        predictions.append(p)\n",
    "        print(f\"Conformal prediction: {p}\")\n",
    "\n",
    "        print(bsts[c])\n",
    "        cp = bsts[c].predict(x[0])\n",
    "        print(f\"Class prediction: {cp}\")\n",
    "\n",
    "        ppp = bsts[c].predict_prob(x[0], 1)\n",
    "        print(f\"Probability prediction positive: {ppp}\")\n",
    "\n",
    "        ppn = bsts[c].predict_prob(x[0], -1)\n",
    "        print(f\"Probability prediction negative: {ppn}\")\n",
    "\n",
    "    return np.array(predictions)"
   ]
  },
  {
   "cell_type": "code",
   "execution_count": null,
   "metadata": {},
   "outputs": [],
   "source": [
    "test_data = np.array([np.array([x for x in s]) for s in X_test])\n",
    "print(test_data.shape)\n",
    "\n",
    "for idx, i in enumerate(test_data):\n",
    "    print(\"###########################################\")\n",
    "    print(\"Predicting\", i)\n",
    "    predict(np.array([i]))\n",
    "    print(\"real:\", Y_test[idx])\n",
    "    print(\"###########################################\")"
   ]
  }
 ],
 "metadata": {
  "kernelspec": {
   "display_name": ".env",
   "language": "python",
   "name": "python3"
  },
  "language_info": {
   "codemirror_mode": {
    "name": "ipython",
    "version": 3
   },
   "file_extension": ".py",
   "mimetype": "text/x-python",
   "name": "python",
   "nbconvert_exporter": "python",
   "pygments_lexer": "ipython3",
   "version": "3.12.3"
  }
 },
 "nbformat": 4,
 "nbformat_minor": 2
}
