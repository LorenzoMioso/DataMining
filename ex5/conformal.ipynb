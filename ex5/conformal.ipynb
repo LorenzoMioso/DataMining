{
 "cells": [
  {
   "cell_type": "code",
   "execution_count": 25,
   "metadata": {},
   "outputs": [],
   "source": [
    "import sys\n",
    "\n",
    "sys.path.append(\"..\")\n",
    "\n",
    "import numpy as np\n",
    "import datetime\n",
    "\n",
    "from ex5.util import parse_dataset\n",
    "from ex5.conformal import ConformalBoostedSeqTree\n",
    "from ex5.conformal import custom_train_test_split\n",
    "\n",
    "\n",
    "# DATASET_PATH = \"../datasets/pioneer.txt\"  ## 160 lines\n",
    "#DATASET_PATH = \"../datasets/auslan2.txt\"  ## 200 lines\n",
    "DATASET_PATH = \"../datasets/context.txt\"  ## 240 lines\n",
    "# DATASET_PATH = \"../datasets/aslbu.txt\"  #### 424 lines\n",
    "# DATASET_PATH = \"../datasets/skating.txt\"  ## 530 lines\n",
    "# DATASET_PATH = \"../datasets/reuters.txt\"  # 1010 lines\n",
    "# DATASET_PATH = \"../datasets/webkb.txt\"  ### 3667 lines\n",
    "# DATASET_PATH = \"../datasets/news.txt\"  #### 4976 lines\n",
    "# DATASET_PATH = \"../datasets/unix.txt\"  #### 5472 lines\n",
    "\n",
    "# other datasets with 2 classes\n",
    "# DATASET_PATH = \"../datasets/activity.txt\"  # 35 lines\n",
    "# DATASET_PATH = \"../datasets/question.txt\"  # 1730 lines\n",
    "# DATASET_PATH = \"../datasets/epitope.txt\"  # 2392 lines\n",
    "# DATASET_PATH = \"../datasets/gene.txt\"  # 2942 lines\n",
    "# DATASET_PATH = \"../datasets/robot.txt\"  # 4302 lines\n",
    "\n",
    "ITERATIONS = 20"
   ]
  },
  {
   "cell_type": "code",
   "execution_count": 26,
   "metadata": {},
   "outputs": [
    {
     "name": "stdout",
     "output_type": "stream",
     "text": [
      "Class 1: 35 train, 9 test\n",
      "Class 2: 38 train, 10 test\n",
      "Class 3: 38 train, 10 test\n",
      "Class 4: 40 train, 10 test\n",
      "Class 5: 40 train, 10 test\n"
     ]
    }
   ],
   "source": [
    "df = parse_dataset(DATASET_PATH, add_padding=True)\n",
    "\n",
    "# divide training and test sets\n",
    "X, X_test, Y, Y_test = custom_train_test_split(df[\"s\"].to_numpy(), df[\"y\"].to_numpy())"
   ]
  },
  {
   "cell_type": "code",
   "execution_count": 27,
   "metadata": {},
   "outputs": [
    {
     "name": "stdout",
     "output_type": "stream",
     "text": [
      "49\n",
      "191\n"
     ]
    }
   ],
   "source": [
    "print(len(X_test))\n",
    "print(len(X))"
   ]
  },
  {
   "cell_type": "code",
   "execution_count": 28,
   "metadata": {},
   "outputs": [
    {
     "name": "stdout",
     "output_type": "stream",
     "text": [
      "class: 1\n",
      "Training model for class 1\n",
      "Fitting Classifier\n"
     ]
    }
   ],
   "source": [
    "model = ConformalBoostedSeqTree()\n",
    "model.fit(X, Y)"
   ]
  },
  {
   "cell_type": "code",
   "execution_count": null,
   "metadata": {},
   "outputs": [],
   "source": [
    "\n",
    "\n",
    "\n",
    "model.save(f\"models/{DATASET_PATH.split('/')[-1].split('.')[0]}_itrs_{ITERATIONS}_{datetime.datetime.now().strftime('%Y-%m-%d_%H-%M-%S')}.pkl\")\n"
   ]
  },
  {
   "cell_type": "code",
   "execution_count": null,
   "metadata": {},
   "outputs": [],
   "source": [
    "\n",
    "#MODEL = \"models_activity_itrs_20_2024-06-07_14-54-24.pkl\"\n",
    "#model.load(MODEL)\n"
   ]
  },
  {
   "cell_type": "code",
   "execution_count": null,
   "metadata": {},
   "outputs": [],
   "source": [
    "SIGNIFICANCE = 0.2"
   ]
  },
  {
   "cell_type": "code",
   "execution_count": null,
   "metadata": {},
   "outputs": [
    {
     "name": "stdout",
     "output_type": "stream",
     "text": [
      "Real: 1 - Predicted: ['1', '10', '2', '4', '5', '6', '7', '8']\n",
      "Real: 1 - Predicted: ['1', '10', '2', '3', '4', '5', '6', '7', '8', '9']\n",
      "Real: 1 - Predicted: ['1', '10', '2', '3', '4', '5', '6', '7', '8', '9']\n",
      "Real: 1 - Predicted: ['1', '10', '2', '3', '4', '5', '6', '7', '8', '9']\n",
      "Real: 10 - Predicted: ['1', '10', '2', '4', '5', '6', '7', '8', '9']\n",
      "Real: 10 - Predicted: ['1', '2', '3', '4', '7', '8', '9']\n",
      "Real: 10 - Predicted: ['1', '10', '2', '4', '6', '7', '8', '9']\n",
      "Real: 10 - Predicted: ['1', '5', '7', '8', '9']\n",
      "Real: 2 - Predicted: ['1', '10', '2', '3', '4', '5', '6', '7', '8', '9']\n",
      "Real: 2 - Predicted: ['1', '10', '2', '4', '5', '7', '8', '9']\n",
      "Real: 2 - Predicted: ['1', '2', '3', '4', '5', '6', '7', '8', '9']\n",
      "Real: 2 - Predicted: ['1', '2', '3', '4', '6', '7', '8', '9']\n",
      "Real: 3 - Predicted: ['10', '2', '3', '4', '5', '7', '8', '9']\n",
      "Real: 3 - Predicted: ['1', '10', '2', '4', '6', '7', '8', '9']\n",
      "Real: 3 - Predicted: ['1', '10', '4', '5', '6', '7', '8', '9']\n",
      "Real: 3 - Predicted: ['1', '2', '3', '4', '6', '7', '8', '9']\n",
      "Real: 4 - Predicted: ['1', '10', '2', '3', '4', '5', '6', '7', '8', '9']\n",
      "Real: 4 - Predicted: ['1', '10', '2', '3', '5', '7', '8', '9']\n",
      "Real: 4 - Predicted: ['10', '2', '3', '5', '7', '8', '9']\n",
      "Real: 4 - Predicted: ['10', '2', '3', '4', '5', '7', '8', '9']\n",
      "Real: 5 - Predicted: ['1', '10', '2', '3', '4', '5', '6', '7', '8', '9']\n",
      "Real: 5 - Predicted: ['1', '10', '2', '3', '4', '5', '6', '7', '8', '9']\n",
      "Real: 5 - Predicted: ['1', '10', '2', '3', '4', '5', '6', '7', '8', '9']\n",
      "Real: 5 - Predicted: ['1', '10', '2', '4', '6', '7', '8', '9']\n",
      "Real: 6 - Predicted: ['1', '10', '2', '4', '5', '7', '8', '9']\n",
      "Real: 6 - Predicted: ['1', '10', '2', '3', '4', '5', '7', '8', '9']\n",
      "Real: 6 - Predicted: ['1', '10', '2', '3', '4', '6', '7', '8', '9']\n",
      "Real: 6 - Predicted: ['10', '2', '3', '4', '5', '7', '8', '9']\n",
      "Real: 7 - Predicted: ['1', '10', '2', '3', '4', '5', '6', '8', '9']\n",
      "Real: 7 - Predicted: ['1', '10', '2', '3', '4', '5', '6', '7', '8', '9']\n",
      "Real: 7 - Predicted: ['1', '10', '2', '3', '4', '5', '6', '7', '8', '9']\n",
      "Real: 7 - Predicted: ['10', '2', '3', '4', '5', '7', '8', '9']\n",
      "Real: 8 - Predicted: ['1', '10', '2', '3', '4', '5', '6', '7', '8', '9']\n",
      "Real: 8 - Predicted: ['1', '10', '2', '3', '4', '5', '6', '7', '8', '9']\n",
      "Real: 8 - Predicted: ['1', '10', '2', '3', '4', '5', '6', '7', '8']\n",
      "Real: 8 - Predicted: ['1', '10', '2', '3', '4', '5', '6', '7', '8', '9']\n",
      "Real: 9 - Predicted: ['1', '10', '2', '3', '5', '6', '7', '8', '9']\n",
      "Real: 9 - Predicted: ['1', '10', '2', '3', '4', '5', '6', '8', '9']\n",
      "Real: 9 - Predicted: ['1', '10', '2', '3', '4', '5', '6', '7', '8', '9']\n",
      "Real: 9 - Predicted: ['1', '10', '2', '3', '4', '5', '6', '7', '8']\n"
     ]
    }
   ],
   "source": [
    "\n",
    "predictions = model.predict(X_test, SIGNIFICANCE)\n",
    "for i in range(len(predictions)):\n",
    "    print(f\"Real: {Y_test[i]} - Predicted: {predictions[i]}\")"
   ]
  },
  {
   "cell_type": "code",
   "execution_count": null,
   "metadata": {},
   "outputs": [
    {
     "name": "stdout",
     "output_type": "stream",
     "text": [
      "Error : [(1, array([False, False])), (1, array([False, False])), (1, array([False, False])), (1, array([False, False])), (1, array([False, False])), (1, array([False, False])), (1, array([False, False]))]\n",
      "Error rate for class 1: 0.825\n",
      "Error : [(0, array([False, False])), (0, array([False, False])), (1, array([ True, False])), (1, array([False, False])), (1, array([False, False]))]\n",
      "Error rate for class 10: 0.875\n",
      "Error : [(1, array([False, False])), (1, array([False, False])), (1, array([ True, False])), (1, array([False, False]))]\n",
      "Error rate for class 2: 0.9\n",
      "Error : [(1, array([False, False])), (1, array([False, False])), (1, array([False, False])), (1, array([False, False])), (1, array([False, False])), (0, array([False, False])), (0, array([False, False])), (1, array([False, False])), (1, array([False, False]))]\n",
      "Error rate for class 3: 0.775\n",
      "Error : [(1, array([ True, False])), (1, array([False, False])), (1, array([False, False])), (0, array([False, False])), (0, array([False, False])), (1, array([False, False])), (1, array([ True, False])), (1, array([ True, False])), (1, array([False, False]))]\n",
      "Error rate for class 4: 0.775\n",
      "Error : [(1, array([False, False])), (1, array([False, False])), (1, array([False, False])), (1, array([False, False])), (1, array([False, False])), (0, array([False, False])), (0, array([False, False])), (1, array([False, False]))]\n",
      "Error rate for class 5: 0.8\n",
      "Error : [(1, array([False, False])), (1, array([False, False])), (1, array([False, False])), (1, array([False, False])), (1, array([False, False])), (1, array([False, False])), (1, array([False, False])), (0, array([False, False])), (0, array([False, False])), (0, array([False, False])), (1, array([False, False]))]\n",
      "Error rate for class 6: 0.725\n",
      "Error : [(1, array([ True, False])), (0, array([False, False])), (1, array([False, False])), (1, array([False, False])), (1, array([False, False]))]\n",
      "Error rate for class 7: 0.875\n",
      "Error : [(1, array([ True, False])), (0, array([False, False])), (0, array([False,  True])), (1, array([ True, False]))]\n",
      "Error rate for class 8: 0.9\n",
      "Error : [(1, array([False, False])), (1, array([ True, False])), (1, array([False, False])), (1, array([ True, False])), (0, array([False, False]))]\n",
      "Error rate for class 9: 0.875\n"
     ]
    }
   ],
   "source": [
    "X_test = np.array([np.array(i) for i in X_test])\n",
    "\n",
    "classes = np.unique(Y).tolist()\n",
    "\n",
    "\n",
    "def class_to_pos(current_class, real_class):\n",
    "    if current_class == real_class:\n",
    "        return 0\n",
    "    return 1\n",
    "\n",
    "\n",
    "for c, phi in model.PHI.items():\n",
    "    regions = phi.predict(X_test, significance=SIGNIFICANCE)\n",
    "    error = list(\n",
    "        filter(\n",
    "            lambda x: not x[1][x[0]],\n",
    "            [(class_to_pos(Y_test[i], c), r) for i, r in enumerate(regions)],\n",
    "        )\n",
    "    )\n",
    "    print(f\"Error : {error}\")\n",
    "\n",
    "    error_p = np.array(\n",
    "        [r[class_to_pos(Y_test[i], c)] for i, r in enumerate(regions)]\n",
    "    ).mean()\n",
    "    print(f\"Error rate for class {c}: {error_p}\")\n",
    "\n",
    "    error_rate = len(error) / len(regions)\n",
    "    res = np.array([r.sum() for r in regions]).mean()\n",
    "    # print(f\"results for class {c}: {res}\")"
   ]
  }
 ],
 "metadata": {
  "kernelspec": {
   "display_name": ".env",
   "language": "python",
   "name": "python3"
  },
  "language_info": {
   "codemirror_mode": {
    "name": "ipython",
    "version": 3
   },
   "file_extension": ".py",
   "mimetype": "text/x-python",
   "name": "python",
   "nbconvert_exporter": "python",
   "pygments_lexer": "ipython3",
   "version": "3.12.3"
  }
 },
 "nbformat": 4,
 "nbformat_minor": 2
}
