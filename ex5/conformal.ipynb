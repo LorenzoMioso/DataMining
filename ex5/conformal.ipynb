{
 "cells": [
  {
   "cell_type": "code",
   "execution_count": 23,
   "metadata": {},
   "outputs": [],
   "source": [
    "\n",
    "import sys\n",
    "import pandas as pd\n",
    "\n",
    "\n",
    "sys.path.append(\"..\")\n",
    "\n",
    "import numpy as np\n",
    "from nonconformist.base import ClassifierAdapter\n",
    "from nonconformist.cp import IcpClassifier\n",
    "from nonconformist.nc import ClassifierNc, NcFactory\n",
    "\n",
    "from ex4.ada_boost import BoostedSeqTree\n",
    "from ex5.util import parse_dataset\n",
    "\n",
    "DATASET_PATH = \"../datasets/pioneer.txt\"  ## 160 lines\n",
    "# DATASET_PATH = \"../datasets/auslan2.txt\"  ## 200 lines\n",
    "# DATASET_PATH = \"../datasets/context.txt\"  ## 240 lines\n",
    "# DATASET_PATH = \"../datasets/aslbu.txt\"  #### 424 lines\n",
    "# DATASET_PATH = \"../datasets/skating.txt\"  ## 530 lines\n",
    "# DATASET_PATH = \"../datasets/reuters.txt\"  # 1010 lines\n",
    "# DATASET_PATH = \"../datasets/webkb.txt\"  ### 3667 lines\n",
    "# DATASET_PATH = \"../datasets/news.txt\"  #### 4976 lines\n",
    "# DATASET_PATH = \"../datasets/unix.txt\"  #### 5472 lines\n",
    "ITERATIONS = 10\n",
    "\n",
    "SIGNIFICANCE = 0.05"
   ]
  },
  {
   "cell_type": "code",
   "execution_count": 24,
   "metadata": {},
   "outputs": [],
   "source": [
    "\n",
    "class MyClassifierAdapter(ClassifierAdapter):\n",
    "    def __init__(self, model: BoostedSeqTree):\n",
    "        super().__init__(model, None)\n",
    "\n",
    "    def fit(self, x, y):\n",
    "        self.model.fit(x, y, ITERATIONS)\n",
    "\n",
    "    def predict(self, x):\n",
    "        return np.array(\n",
    "            [\n",
    "                np.array(\n",
    "                    [self.model.predict_prob(x, 1), self.model.predict_prob(x, -1)]\n",
    "                )\n",
    "                for x in x\n",
    "            ]\n",
    "        )\n"
   ]
  },
  {
   "cell_type": "code",
   "execution_count": 25,
   "metadata": {},
   "outputs": [],
   "source": [
    "def train_test_split(df, ratio = 0.8):\n",
    "    # consider each class separately\n",
    "    classes = df[\"y\"].unique()\n",
    "    train = []\n",
    "    test = []\n",
    "    for c in classes:\n",
    "        class_df = df[df[\"y\"] == c]\n",
    "        class_train = class_df.sample(frac=ratio)\n",
    "        class_test = class_df.drop(class_train.index\n",
    "        )\n",
    "        train.append(class_train)\n",
    "        test.append(class_test)\n",
    "\n",
    "    return pd.concat(train), pd.concat(test)\n"
   ]
  },
  {
   "cell_type": "code",
   "execution_count": 26,
   "metadata": {},
   "outputs": [],
   "source": [
    "def fit(df):\n",
    "    PHI = []\n",
    "    classes = df[\"y\"].unique()\n",
    "\n",
    "    for c in classes:\n",
    "        print(\"class:\", c)\n",
    "        df_train = df.copy()\n",
    "        df_train[\"y\"] = df[\"y\"].apply(lambda x: 1 if x == c else 0)\n",
    "\n",
    "        # split the dataset into train and calibration sets\n",
    "        df_t, df_c = train_test_split(df_train)\n",
    "\n",
    "        # make sure that in the calibration set there are both positive and negative examples\n",
    "        while df_c[\"y\"].nunique() < 2 or df_t[\"y\"].nunique() < 2:\n",
    "            raise ValueError(\"Failed to split correctly\")\n",
    "\n",
    "        X = np.array([np.array([x for x in s]) for s in df_t[\"s\"]])\n",
    "        Y = np.array(df_t[\"y\"])\n",
    "\n",
    "        # train the model\n",
    "        print(f\"Training model for class {c}\")\n",
    "        bst = BoostedSeqTree()\n",
    "        model = MyClassifierAdapter(bst)\n",
    "        nc = ClassifierNc(model)\n",
    "        icp = IcpClassifier(nc)\n",
    "\n",
    "        X_c = np.array([np.array([x for x in s]) for s in df_c[\"s\"]])\n",
    "        Y_c = np.array(df_c[\"y\"])\n",
    "\n",
    "        print(\"Fitting Classifier\")\n",
    "        icp.fit(X, Y)\n",
    "\n",
    "        print(f\"Calibrating model for class {c}\")\n",
    "        icp.calibrate(X_c, Y_c)\n",
    "        PHI.append(icp)\n",
    "\n",
    "    return PHI"
   ]
  },
  {
   "cell_type": "code",
   "execution_count": 27,
   "metadata": {},
   "outputs": [
    {
     "name": "stdout",
     "output_type": "stream",
     "text": [
      "class: 1\n",
      "Training model for class 1\n",
      "Fitting Classifier\n"
     ]
    }
   ],
   "source": [
    "PHI = []\n",
    "df = parse_dataset(DATASET_PATH)\n",
    "classes = df[\"y\"].unique()\n",
    "\n",
    "# divide training and test sets\n",
    "df_train, df_test = train_test_split(df)\n",
    "X_test = df_test[\"s\"].to_numpy()\n",
    "Y_test = df_test[\"y\"].to_numpy()\n",
    "\n",
    "PHI = fit(df_train)"
   ]
  },
  {
   "cell_type": "code",
   "execution_count": null,
   "metadata": {},
   "outputs": [],
   "source": [
    "def predict(PHI, x):\n",
    "\n",
    "    predictions = []\n",
    "    for phi in PHI:\n",
    "        p = phi.predict(x, significance=SIGNIFICANCE)\n",
    "        predictions.append(p)\n",
    "\n",
    "    return np.array(predictions)"
   ]
  },
  {
   "cell_type": "code",
   "execution_count": null,
   "metadata": {},
   "outputs": [
    {
     "name": "stdout",
     "output_type": "stream",
     "text": [
      "[]\n"
     ]
    }
   ],
   "source": [
    "test_data = np.array([np.array([x for x in s]) for s in X_test])\n",
    "\n",
    "r = predict(PHI, test_data[0])\n",
    "print(r)"
   ]
  }
 ],
 "metadata": {
  "kernelspec": {
   "display_name": ".env",
   "language": "python",
   "name": "python3"
  },
  "language_info": {
   "codemirror_mode": {
    "name": "ipython",
    "version": 3
   },
   "file_extension": ".py",
   "mimetype": "text/x-python",
   "name": "python",
   "nbconvert_exporter": "python",
   "pygments_lexer": "ipython3",
   "version": "3.12.3"
  }
 },
 "nbformat": 4,
 "nbformat_minor": 2
}
