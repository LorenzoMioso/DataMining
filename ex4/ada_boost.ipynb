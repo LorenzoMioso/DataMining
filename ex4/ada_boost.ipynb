{
 "cells": [
  {
   "cell_type": "code",
   "execution_count": 5,
   "metadata": {},
   "outputs": [],
   "source": [
    "import sys\n",
    "\n",
    "\n",
    "sys.path.append(\"..\")\n",
    "from ex4.ada_boost import BoostedSeqTree\n",
    "from ex4.util import parse_dataset\n",
    "\n",
    "\n",
    "DATASET_PATH = \"../datasets/activity.txt\"  # 35 lines\n",
    "# DATASET_PATH = \"../datasets/question.txt\"  # 1730 lines\n",
    "# DATASET_PATH = \"../datasets/epitope.txt\"  # 2392 lines\n",
    "# DATASET_PATH = \"../datasets/gene.txt\"  # 2942 lines\n",
    "# DATASET_PATH = \"../datasets/robot.txt\"  # 4302 lines\n",
    "ITERATIONS = 50"
   ]
  },
  {
   "cell_type": "code",
   "execution_count": 6,
   "metadata": {},
   "outputs": [],
   "source": [
    "\n",
    "df = parse_dataset(DATASET_PATH)\n",
    "train = df.sample(frac=0.8)\n",
    "test = df.drop(train.index)\n",
    "X = train[\"s\"].tolist()\n",
    "Y = train[\"y\"].tolist()"
   ]
  },
  {
   "cell_type": "code",
   "execution_count": 7,
   "metadata": {},
   "outputs": [
    {
     "data": {
      "text/plain": [
       "<ex4.ada_boost.BoostedSeqTree at 0x776c78268a90>"
      ]
     },
     "execution_count": 7,
     "metadata": {},
     "output_type": "execute_result"
    }
   ],
   "source": [
    "\n",
    "\n",
    "model = BoostedSeqTree()\n",
    "model.fit(X, Y, ITERATIONS)"
   ]
  },
  {
   "cell_type": "code",
   "execution_count": 8,
   "metadata": {},
   "outputs": [
    {
     "name": "stdout",
     "output_type": "stream",
     "text": [
      "prediction = -1, real value = -1\n",
      "prediction = -1, real value = -1\n",
      "prediction = 1, real value = -1\n",
      "prediction = 1, real value = 1\n",
      "prediction = 1, real value = 1\n",
      "prediction = 1, real value = 1\n",
      "prediction = -1, real value = 1\n",
      "Accuracy = 1.0\n",
      "p_plus = [0.47666532160218356, 0.4210515286172481, 0.6547535675130882, 0.703867281833942, 0.7728730358765933, 0.6122220498468716, 0.0]\n",
      "p_minus = [0.5233346783978163, 0.5789484713827519, 0.3452464324869118, 0.2961327181660581, 0.22712696412340663, 0.3877779501531284, 1]\n"
     ]
    }
   ],
   "source": [
    "# test the model\n",
    "test_X = test[\"s\"].tolist()\n",
    "test_Y = test[\"y\"].tolist()\n",
    "predictions = [model.predict(x) for x, y in zip(test_X, test_Y)]\n",
    "for i, p in enumerate(predictions):\n",
    "    print(f\"prediction = {p}, real value = {test_Y[i]}\")\n",
    "\n",
    "## a prediction is correct if the sign of the prediction is the same as the sign of the real value\n",
    "accuracy = sum([1 for i in range(len(test_Y)) if predictions[i]]) / len(test_Y)\n",
    "\n",
    "print(f\"Accuracy = {accuracy}\")\n",
    "\n",
    "# probability of the sample x to be of class 1\n",
    "p_plus = [model.predict_prob(x, 1) for x in test_X]\n",
    "\n",
    "print(f\"p_plus = {p_plus}\")\n",
    "# probability of the sample x to be of class -1\n",
    "p_minus = [model.predict_prob(x, -1) for x in test_X]\n",
    "print(f\"p_minus = {p_minus}\")"
   ]
  }
 ],
 "metadata": {
  "kernelspec": {
   "display_name": ".env",
   "language": "python",
   "name": "python3"
  },
  "language_info": {
   "codemirror_mode": {
    "name": "ipython",
    "version": 3
   },
   "file_extension": ".py",
   "mimetype": "text/x-python",
   "name": "python",
   "nbconvert_exporter": "python",
   "pygments_lexer": "ipython3",
   "version": "3.11.9"
  }
 },
 "nbformat": 4,
 "nbformat_minor": 2
}
